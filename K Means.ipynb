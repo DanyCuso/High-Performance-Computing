{
 "cells": [
  {
   "cell_type": "code",
   "execution_count": 1,
   "metadata": {},
   "outputs": [
    {
     "name": "stdout",
     "output_type": "stream",
     "text": [
      "[[(10, 2), (10, 4), (10, 0)], [(1, 2), (1, 4), (1, 0)]]\n"
     ]
    }
   ],
   "source": [
    "import random\n",
    "\n",
    "def euclidean_distance(point1, point2):\n",
    "    return sum((p1 - p2) ** 2 for p1, p2 in zip(point1, point2)) ** 0.5\n",
    "\n",
    "def assign_points_to_clusters(centroids, data):\n",
    "    clusters = [[] for _ in centroids]\n",
    "    for point in data:\n",
    "        closest_centroid_idx = min(range(len(centroids)),\n",
    "                                    key=lambda i: euclidean_distance(point, centroids[i]))\n",
    "        clusters[closest_centroid_idx].append(point)\n",
    "    return clusters\n",
    "\n",
    "def calculate_new_centroids(clusters):\n",
    "    return [[sum(values) / len(values) for values in zip(*cluster)] for cluster in clusters if cluster]\n",
    "\n",
    "def k_means(data, k, max_iterations=100):\n",
    "    centroids = random.sample(data, k)\n",
    "    \n",
    "    for _ in range(max_iterations):\n",
    "        clusters = assign_points_to_clusters(centroids, data)\n",
    "        \n",
    "        new_centroids = calculate_new_centroids(clusters)\n",
    "        \n",
    "        if all(euclidean_distance(old, new) < 1e-4 for old, new in zip(centroids, new_centroids)):\n",
    "            break\n",
    "        \n",
    "        centroids = new_centroids\n",
    "    \n",
    "    return clusters\n",
    "\n",
    "data = [(1, 2), (1, 4), (1, 0),\n",
    "        (10, 2), (10, 4), (10, 0)] \n",
    "clusters = k_means(data, k=2)\n",
    "print(clusters)\n"
   ]
  },
  {
   "cell_type": "code",
   "execution_count": 3,
   "metadata": {},
   "outputs": [
    {
     "name": "stdout",
     "output_type": "stream",
     "text": [
      "Cluster Assignments: [1 1 1 0 0 0]\n",
      "Centroids: [[10.  2.]\n",
      " [ 1.  2.]]\n"
     ]
    }
   ],
   "source": [
    "import numpy as np\n",
    "import numexpr as ne\n",
    "\n",
    "def initialize_centroids(data, k):\n",
    "    indices = np.random.choice(data.shape[0], size=k, replace=False)\n",
    "    return data[indices]\n",
    "\n",
    "def assign_points_to_clusters_numpy(centroids, data):\n",
    "    diff = data[:, np.newaxis] - centroids\n",
    "    dist = np.sqrt(np.sum(diff**2, axis=2))\n",
    "    return np.argmin(dist, axis=1)\n",
    "\n",
    "def update_centroids(data, assignments, k):\n",
    "    new_centroids = np.array([data[assignments == i].mean(axis=0) for i in range(k)])\n",
    "    return new_centroids\n",
    "\n",
    "def k_means_numpy(data, k, max_iterations=100):\n",
    "    centroids = initialize_centroids(data, k)\n",
    "    \n",
    "    for _ in range(max_iterations):\n",
    "        assignments = assign_points_to_clusters_numpy(centroids, data)\n",
    "        \n",
    "        new_centroids = update_centroids(data, assignments, k)\n",
    "        \n",
    "        if np.allclose(centroids, new_centroids, atol=1e-4):\n",
    "            break\n",
    "        \n",
    "        centroids = new_centroids\n",
    "    \n",
    "    return assignments, centroids\n",
    "\n",
    "data = np.array([[1, 2], [1, 4], [1, 0],\n",
    "                 [10, 2], [10, 4], [10, 0]])\n",
    "assignments, centroids = k_means_numpy(data, k=2)\n",
    "print(\"Cluster Assignments:\", assignments)\n",
    "print(\"Centroids:\", centroids)\n"
   ]
  }
 ],
 "metadata": {
  "kernelspec": {
   "display_name": "hpc",
   "language": "python",
   "name": "python3"
  },
  "language_info": {
   "codemirror_mode": {
    "name": "ipython",
    "version": 3
   },
   "file_extension": ".py",
   "mimetype": "text/x-python",
   "name": "python",
   "nbconvert_exporter": "python",
   "pygments_lexer": "ipython3",
   "version": "3.12.2"
  }
 },
 "nbformat": 4,
 "nbformat_minor": 2
}
